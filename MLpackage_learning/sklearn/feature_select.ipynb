{
 "cells": [
  {
   "cell_type": "code",
   "execution_count": 9,
   "metadata": {},
   "outputs": [],
   "source": [
    "import numpy as np\n",
    "import pandas as pd\n",
    "from sklearn import feature_selection\n"
   ]
  },
  {
   "cell_type": "code",
   "execution_count": 16,
   "metadata": {},
   "outputs": [
    {
     "data": {
      "text/plain": [
       "array([[0, 1],\n",
       "       [1, 0],\n",
       "       [0, 0],\n",
       "       [1, 1],\n",
       "       [1, 0],\n",
       "       [1, 1]])"
      ]
     },
     "execution_count": 16,
     "metadata": {},
     "output_type": "execute_result"
    }
   ],
   "source": [
    "#按照方差筛选特征\n",
    "#过滤掉80%以上是0或者1的特征，因为是二项分布，所以threshold=p(1-p)，二项分布的方差\n",
    "X = [[0, 0, 1], [0, 1, 0], [1, 0, 0], [0, 1, 1], [0, 1, 0], [0, 1, 1]]\n",
    "#df = pd.DataFrame(X,columns=list('ABC'))\n",
    "sel =feature_selection.VarianceThreshold(threshold=(.8 * (1 - .8)))\n",
    "#使用X训练并且转换特征\n",
    "sel.fit_transform(X)"
   ]
  },
  {
   "cell_type": "code",
   "execution_count": 21,
   "metadata": {},
   "outputs": [
    {
     "name": "stdout",
     "output_type": "stream",
     "text": [
      "筛选前的数据大小是： (150, 4)\n",
      "筛选后的数据大小是： (150, 2)\n",
      "百分比筛选后的数据大小是： (150, 2)\n"
     ]
    }
   ],
   "source": [
    "#Univariate feature selection单变量特征选择，使用单变量的统计特征进行特征筛选（univariate statistical tests）\n",
    "#常用特征选择参数：\n",
    "#For regression: f_regression, mutual_info_regression\n",
    "#For classification: chi2, f_classif, mutual_info_classif\n",
    "from sklearn.datasets import load_iris\n",
    "from sklearn.feature_selection import chi2\n",
    "iris = load_iris()\n",
    "X, y = iris.data, iris.target\n",
    "print(\"筛选前的数据大小是：\",X.shape)\n",
    "X_new = feature_selection.SelectKBest(chi2, k=2).fit_transform(X, y)\n",
    "print(\"筛选后的数据大小是：\",X_new.shape)\n",
    "X_per= feature_selection.SelectPercentile(chi2, percentile=50).fit_transform(X, y)\n",
    "print(\"百分比筛选后的数据大小是：\",X_new.shape)"
   ]
  },
  {
   "cell_type": "code",
   "execution_count": null,
   "metadata": {},
   "outputs": [],
   "source": [
    "#Recursive feature elimination递归特征选择是在特征集上选择最重要的k个特征，然后缩小特征集，\n",
    "#再在缩小的特征集上选择更重要的m个特征，直到达到对特征数量的需求"
   ]
  }
 ],
 "metadata": {
  "kernelspec": {
   "display_name": "Python 3",
   "language": "python",
   "name": "python3"
  },
  "language_info": {
   "codemirror_mode": {
    "name": "ipython",
    "version": 3
   },
   "file_extension": ".py",
   "mimetype": "text/x-python",
   "name": "python",
   "nbconvert_exporter": "python",
   "pygments_lexer": "ipython3",
   "version": "3.7.1"
  }
 },
 "nbformat": 4,
 "nbformat_minor": 2
}
