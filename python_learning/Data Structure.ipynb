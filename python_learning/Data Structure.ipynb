{
 "cells": [
  {
   "cell_type": "markdown",
   "metadata": {},
   "source": [
    "<font face=\"微软雅黑\" size=4 color=#1E90F> 列表：  "
   ]
  },
  {
   "cell_type": "code",
   "execution_count": 1,
   "metadata": {},
   "outputs": [],
   "source": [
    "#新建列表\n",
    "bike = ['trek','cannondale','redline','specialized']"
   ]
  },
  {
   "cell_type": "code",
   "execution_count": 2,
   "metadata": {},
   "outputs": [
    {
     "name": "stdout",
     "output_type": "stream",
     "text": [
      "redline\n"
     ]
    }
   ],
   "source": [
    "#输出倒数第二个元素\n",
    "print(bike[-2])"
   ]
  },
  {
   "cell_type": "code",
   "execution_count": 3,
   "metadata": {},
   "outputs": [
    {
     "name": "stdout",
     "output_type": "stream",
     "text": [
      "['trek', 'cannondale', 'redline', 'specialized', 'sifei']\n",
      "['trek', 'cannondale', 'redline', 'specialized', 'sifei', 'test1', 'test2']\n"
     ]
    }
   ],
   "source": [
    "#添加元素\n",
    "bike.append('sifei')\n",
    "print(bike)\n",
    "#一次性添加多个元素\n",
    "b = ['test1','test2']\n",
    "bike.extend(b)\n",
    "print(bike)"
   ]
  },
  {
   "cell_type": "code",
   "execution_count": 4,
   "metadata": {},
   "outputs": [
    {
     "name": "stdout",
     "output_type": "stream",
     "text": [
      "['trek', 'fenghuang', 'cannondale', 'redline', 'specialized', 'sifei', 'test1', 'test2']\n"
     ]
    }
   ],
   "source": [
    "#插入元素  \n",
    "#在位置“1”插入\n",
    "bike.insert(1,'fenghuang')\n",
    "print(bike)"
   ]
  },
  {
   "cell_type": "code",
   "execution_count": 5,
   "metadata": {},
   "outputs": [
    {
     "name": "stdout",
     "output_type": "stream",
     "text": [
      "['fenghuang', 'cannondale', 'redline', 'specialized', 'sifei', 'test1', 'test2']\n",
      "['fenghuang', 'cannondale', 'redline', 'specialized', 'test1', 'test2']\n"
     ]
    }
   ],
   "source": [
    "#删除第0个元素\n",
    "del bike[0]\n",
    "print(bike)\n",
    "#删除列表中‘第一个’为‘sifei’的元素 \n",
    "bike.remove('sifei')\n",
    "print(bike)"
   ]
  },
  {
   "cell_type": "code",
   "execution_count": 6,
   "metadata": {},
   "outputs": [
    {
     "name": "stdout",
     "output_type": "stream",
     "text": [
      "['fenghuang', 'redline', 'specialized', 'test1', 'test2']\n"
     ]
    }
   ],
   "source": [
    "#弹出元素 \n",
    "#弹出第1个元素并赋值给temp\n",
    "temp=bike.pop(1)\n",
    "print(bike)"
   ]
  },
  {
   "cell_type": "code",
   "execution_count": 7,
   "metadata": {},
   "outputs": [
    {
     "name": "stdout",
     "output_type": "stream",
     "text": [
      "['test2', 'test1', 'specialized', 'redline', 'fenghuang']\n",
      "['test2', 'test1', 'specialized', 'redline', 'fenghuang']\n"
     ]
    }
   ],
   "source": [
    "#永久排序  reverse=True  按照z-----a排序\n",
    "bike.sort(reverse=True)\n",
    "print(bike)\n",
    "#临时排序\n",
    "print(sorted(bike,reverse=True))"
   ]
  },
  {
   "cell_type": "code",
   "execution_count": 8,
   "metadata": {},
   "outputs": [
    {
     "name": "stdout",
     "output_type": "stream",
     "text": [
      "5\n"
     ]
    }
   ],
   "source": [
    "#求列表长度\n",
    "print(len(bike))"
   ]
  },
  {
   "cell_type": "code",
   "execution_count": 9,
   "metadata": {},
   "outputs": [
    {
     "name": "stdout",
     "output_type": "stream",
     "text": [
      "['test1', 'specialized']\n",
      "['test2', 'test1', 'specialized', 'redline', 'fenghuang']\n"
     ]
    }
   ],
   "source": [
    "#切片使用\n",
    "#[1:3]  第1----3（不含）个元素\n",
    "print(bike[1:3])\n",
    "#复制列表\n",
    "bike2 = bike[:]\n",
    "print(bike2)"
   ]
  },
  {
   "cell_type": "code",
   "execution_count": null,
   "metadata": {},
   "outputs": [],
   "source": []
  }
 ],
 "metadata": {
  "kernelspec": {
   "display_name": "Python 3",
   "language": "python",
   "name": "python3"
  },
  "language_info": {
   "codemirror_mode": {
    "name": "ipython",
    "version": 3
   },
   "file_extension": ".py",
   "mimetype": "text/x-python",
   "name": "python",
   "nbconvert_exporter": "python",
   "pygments_lexer": "ipython3",
   "version": "3.7.3"
  }
 },
 "nbformat": 4,
 "nbformat_minor": 2
}
