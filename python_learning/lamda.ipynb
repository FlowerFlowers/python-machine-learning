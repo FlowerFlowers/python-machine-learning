{
 "cells": [
  {
   "cell_type": "markdown",
   "metadata": {},
   "source": [
    " <font face=\"微软雅黑\" size=5 color=#1E90F> lambda表达式：  "
   ]
  },
  {
   "cell_type": "code",
   "execution_count": 16,
   "metadata": {},
   "outputs": [
    {
     "name": "stdout",
     "output_type": "stream",
     "text": [
      "2\n",
      "6\n",
      "103\n"
     ]
    }
   ],
   "source": [
    "#lambda相当于一个匿名函数，可以实现简洁的功能\n",
    "#lambda argument_list: expression\n",
    "'''\n",
    "等价于\n",
    "def g(x):\n",
    "  return x+1\n",
    "'''\n",
    "g = lambda x:x+1\n",
    "print(g(1))\n",
    "h = lambda *args: sum(args)\n",
    "print(h(1,2,3))\n",
    "print(h(101,2))"
   ]
  },
  {
   "cell_type": "code",
   "execution_count": 15,
   "metadata": {},
   "outputs": [
    {
     "name": "stdout",
     "output_type": "stream",
     "text": [
      "[18, 9, 24, 12, 27]\n",
      "[14, 46, 28, 54, 44, 58, 26, 34, 64]\n",
      "139\n",
      "[5, 4, 6, 3, 7, 2, 8, 1, 9]\n"
     ]
    }
   ],
   "source": [
    "#lambda函数作为一个参数传入函数使用\n",
    "from functools import reduce\n",
    "foo = [2, 18, 9, 22, 17, 24, 8, 12, 27]\n",
    "print(list(filter(lambda x: x % 3 == 0, foo)))\n",
    "print(list(map(lambda x: x * 2 + 10, foo)))\n",
    "print(reduce(lambda x, y: x + y, foo))\n",
    "print(sorted([1, 2, 3, 4, 5, 6, 7, 8, 9], key=lambda x: abs(5-x)))"
   ]
  },
  {
   "cell_type": "code",
   "execution_count": 20,
   "metadata": {},
   "outputs": [
    {
     "data": {
      "text/plain": [
       "4"
      ]
     },
     "execution_count": 20,
     "metadata": {},
     "output_type": "execute_result"
    }
   ],
   "source": [
    "#lambda函数作为闭包 closure\n",
    "def my_add(n):\n",
    "    return lambda x:x-n\n",
    "add_3 = my_add(3)\n",
    "add_3(7)\n"
   ]
  },
  {
   "cell_type": "code",
   "execution_count": null,
   "metadata": {},
   "outputs": [],
   "source": []
  }
 ],
 "metadata": {
  "kernelspec": {
   "display_name": "Python 3",
   "language": "python",
   "name": "python3"
  },
  "language_info": {
   "codemirror_mode": {
    "name": "ipython",
    "version": 3
   },
   "file_extension": ".py",
   "mimetype": "text/x-python",
   "name": "python",
   "nbconvert_exporter": "python",
   "pygments_lexer": "ipython3",
   "version": "3.7.3"
  }
 },
 "nbformat": 4,
 "nbformat_minor": 2
}
