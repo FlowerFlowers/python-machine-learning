{
 "cells": [
  {
   "cell_type": "code",
   "execution_count": 20,
   "metadata": {},
   "outputs": [],
   "source": [
    "import os\n",
    "import pandas as pd \n",
    "import numpy as np\n",
    "os.environ[\"KMP_DUPLICATE_LIB_OK\"]=\"TRUE\"\n",
    "from xgboost import XGBClassifier\n",
    "from sklearn.metrics import accuracy_score"
   ]
  },
  {
   "cell_type": "code",
   "execution_count": 21,
   "metadata": {},
   "outputs": [],
   "source": [
    "#加载数据集\n",
    "url_feature =pd.read_csv('/Users/wuyijiong/Desktop/data/url_feature.csv', sep=',')\n",
    "url_feature = url_feature.infer_objects()"
   ]
  },
  {
   "cell_type": "code",
   "execution_count": 22,
   "metadata": {},
   "outputs": [],
   "source": [
    "#清洗数据\n",
    "url_feature.set_index(\"id_date\",inplace=True)\n",
    "url_feature = url_feature.drop([\"buyer_id\",\"date\"],axis=1)\n",
    "url_feature = url_feature[url_feature['label']!='未支付正常用户']"
   ]
  },
  {
   "cell_type": "code",
   "execution_count": 30,
   "metadata": {},
   "outputs": [],
   "source": [
    "#分出训练集和测试集\n",
    "X=url_feature.iloc[:,:-1]\n",
    "Y=url_feature.iloc[:,-1]\n",
    "test_size = 0.2\n",
    "seed=7\n",
    "from sklearn.model_selection import train_test_split\n",
    "X_train, X_test, y_train, y_test = train_test_split(X, Y, test_size=test_size, random_state=seed)\n"
   ]
  },
  {
   "cell_type": "code",
   "execution_count": null,
   "metadata": {},
   "outputs": [],
   "source": [
    "#训练数据\n",
    "#learning_rate ＝ 0.1 或更小，越小就需要多加入弱学习器；\n",
    "#tree_depth ＝ 2～8；\n",
    "#subsample ＝ 训练集的 30%～80%；\n",
    "from sklearn.model_selection import GridSearchCV\n",
    "from sklearn.model_selection import StratifiedKFold\n",
    "from xgboost import plot_importance\n",
    "import matplotlib.pyplot as plt\n",
    "model = XGBClassifier()\n",
    "model.fit(X_train, y_train)\n",
    "learning_rate = [0.0001, 0.001, 0.01, 0.1, 0.2, 0.3]\n",
    "param_grid = dict(learning_rate=learning_rate)\n",
    "kfold = StratifiedKFold(n_splits=10, shuffle=True, random_state=7)\n",
    "grid_search = GridSearchCV(model, param_grid, scoring=\"neg_log_loss\", n_jobs=-1, cv=kfold)\n",
    "grid_result = grid_search.fit(X_train, y_train)\n",
    "print(\"Best: %f using %s\" % (grid_result.best_score_, grid_result.best_params_))\n",
    "#画出特征重要性\n",
    "#plot_importance(model)\n",
    "#plt.show()"
   ]
  },
  {
   "cell_type": "code",
   "execution_count": null,
   "metadata": {},
   "outputs": [],
   "source": [
    "means = grid_result.cv_results_['mean_test_score']\n",
    "stds = grid_result.cv_results_['std_test_score']\n",
    "params = grid_result.cv_results_['params']\n",
    "for mean, stdev, param in zip(means, stds, params):\n",
    "    print(\"%f (%f) with: %r\" % (mean, stdev, param))"
   ]
  },
  {
   "cell_type": "code",
   "execution_count": 62,
   "metadata": {},
   "outputs": [
    {
     "name": "stdout",
     "output_type": "stream",
     "text": [
      "XGB的训练集情况如下:  96.70%\n",
      "              precision    recall  f1-score   support\n",
      "\n",
      "        恶拍用户     0.8993    0.6525    0.7563      1862\n",
      "        正常用户     0.9711    0.9938    0.9823     21868\n",
      "\n",
      "   micro avg     0.9670    0.9670    0.9670     23730\n",
      "   macro avg     0.9352    0.8232    0.8693     23730\n",
      "weighted avg     0.9655    0.9670    0.9646     23730\n",
      "\n",
      "XGB的训练集情况如下:  96.54%\n",
      "              precision    recall  f1-score   support\n",
      "\n",
      "        恶拍用户     0.8734    0.6259    0.7292       441\n",
      "        正常用户     0.9706    0.9927    0.9815      5492\n",
      "\n",
      "   micro avg     0.9654    0.9654    0.9654      5933\n",
      "   macro avg     0.9220    0.8093    0.8554      5933\n",
      "weighted avg     0.9634    0.9654    0.9628      5933\n",
      "\n"
     ]
    }
   ],
   "source": [
    "#测试数据\n",
    "from sklearn.metrics import accuracy_score\n",
    "from sklearn.metrics import classification_report\n",
    "target_names = [\"恶拍用户\",\"正常用户\"]\n",
    "\n",
    "y_train_pred = model.predict(X_train)\n",
    "train_accuracy = accuracy_score(y_train, y_train_pred)\n",
    "print(\"XGB的训练集情况如下:  %.2f%%\" % (train_accuracy * 100.0))\n",
    "print(classification_report(y_train, y_train_pred, target_names=target_names,digits=4))\n",
    "\n",
    "y_test_pred = model.predict(X_test)\n",
    "test_accuracy = accuracy_score(y_test, y_test_pred)\n",
    "print(\"XGB的训练集情况如下:  %.2f%%\" % (test_accuracy * 100.0))\n",
    "print(classification_report(y_test, y_test_pred, target_names=target_names,digits=4))"
   ]
  },
  {
   "cell_type": "code",
   "execution_count": null,
   "metadata": {},
   "outputs": [],
   "source": []
  }
 ],
 "metadata": {
  "kernelspec": {
   "display_name": "Python 3",
   "language": "python",
   "name": "python3"
  },
  "language_info": {
   "codemirror_mode": {
    "name": "ipython",
    "version": 3
   },
   "file_extension": ".py",
   "mimetype": "text/x-python",
   "name": "python",
   "nbconvert_exporter": "python",
   "pygments_lexer": "ipython3",
   "version": "3.7.1"
  }
 },
 "nbformat": 4,
 "nbformat_minor": 2
}
